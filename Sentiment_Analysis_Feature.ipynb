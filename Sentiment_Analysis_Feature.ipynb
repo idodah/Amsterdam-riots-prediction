{
  "cells": [
    {
      "cell_type": "code",
      "execution_count": null,
      "id": "ba004f05-c83c-4749-bad5-61b69a6c932d",
      "metadata": {
        "id": "ba004f05-c83c-4749-bad5-61b69a6c932d",
        "outputId": "aa482760-4257-484b-99eb-848955c8bede"
      },
      "outputs": [
        {
          "name": "stdout",
          "output_type": "stream",
          "text": [
            "Defaulting to user installation because normal site-packages is not writeable\n",
            "Requirement already satisfied: google-cloud-bigquery in /home/idodah/.local/lib/python3.11/site-packages (3.29.0)\n",
            "Requirement already satisfied: google-api-core[grpc]<3.0.0dev,>=2.11.1 in /home/idodah/.local/lib/python3.11/site-packages (from google-cloud-bigquery) (2.24.1)\n",
            "Requirement already satisfied: google-auth<3.0.0dev,>=2.14.1 in /home/idodah/.local/lib/python3.11/site-packages (from google-cloud-bigquery) (2.38.0)\n",
            "Requirement already satisfied: google-cloud-core<3.0.0dev,>=2.4.1 in /home/idodah/.local/lib/python3.11/site-packages (from google-cloud-bigquery) (2.4.2)\n",
            "Requirement already satisfied: google-resumable-media<3.0dev,>=2.0.0 in /home/idodah/.local/lib/python3.11/site-packages (from google-cloud-bigquery) (2.7.2)\n",
            "Requirement already satisfied: packaging>=20.0.0 in /storage/modules/packages/anaconda/lib/python3.11/site-packages (from google-cloud-bigquery) (23.1)\n",
            "Requirement already satisfied: python-dateutil<3.0dev,>=2.7.3 in /storage/modules/packages/anaconda/lib/python3.11/site-packages (from google-cloud-bigquery) (2.8.2)\n",
            "Requirement already satisfied: requests<3.0.0dev,>=2.21.0 in /storage/modules/packages/anaconda/lib/python3.11/site-packages (from google-cloud-bigquery) (2.31.0)\n",
            "Requirement already satisfied: googleapis-common-protos<2.0.dev0,>=1.56.2 in /home/idodah/.local/lib/python3.11/site-packages (from google-api-core[grpc]<3.0.0dev,>=2.11.1->google-cloud-bigquery) (1.68.0)\n",
            "Requirement already satisfied: protobuf!=3.20.0,!=3.20.1,!=4.21.0,!=4.21.1,!=4.21.2,!=4.21.3,!=4.21.4,!=4.21.5,<6.0.0.dev0,>=3.19.5 in /home/idodah/.local/lib/python3.11/site-packages (from google-api-core[grpc]<3.0.0dev,>=2.11.1->google-cloud-bigquery) (5.28.0)\n",
            "Requirement already satisfied: proto-plus<2.0.0dev,>=1.22.3 in /home/idodah/.local/lib/python3.11/site-packages (from google-api-core[grpc]<3.0.0dev,>=2.11.1->google-cloud-bigquery) (1.26.0)\n",
            "Requirement already satisfied: grpcio<2.0dev,>=1.33.2 in /home/idodah/.local/lib/python3.11/site-packages (from google-api-core[grpc]<3.0.0dev,>=2.11.1->google-cloud-bigquery) (1.70.0)\n",
            "Requirement already satisfied: grpcio-status<2.0.dev0,>=1.33.2 in /home/idodah/.local/lib/python3.11/site-packages (from google-api-core[grpc]<3.0.0dev,>=2.11.1->google-cloud-bigquery) (1.70.0)\n",
            "Requirement already satisfied: cachetools<6.0,>=2.0.0 in /home/idodah/.local/lib/python3.11/site-packages (from google-auth<3.0.0dev,>=2.14.1->google-cloud-bigquery) (5.5.0)\n",
            "Requirement already satisfied: pyasn1-modules>=0.2.1 in /storage/modules/packages/anaconda/lib/python3.11/site-packages (from google-auth<3.0.0dev,>=2.14.1->google-cloud-bigquery) (0.2.8)\n",
            "Requirement already satisfied: rsa<5,>=3.1.4 in /home/idodah/.local/lib/python3.11/site-packages (from google-auth<3.0.0dev,>=2.14.1->google-cloud-bigquery) (4.9)\n",
            "Requirement already satisfied: google-crc32c<2.0dev,>=1.0 in /home/idodah/.local/lib/python3.11/site-packages (from google-resumable-media<3.0dev,>=2.0.0->google-cloud-bigquery) (1.6.0)\n",
            "Requirement already satisfied: six>=1.5 in /storage/modules/packages/anaconda/lib/python3.11/site-packages (from python-dateutil<3.0dev,>=2.7.3->google-cloud-bigquery) (1.16.0)\n",
            "Requirement already satisfied: charset-normalizer<4,>=2 in /storage/modules/packages/anaconda/lib/python3.11/site-packages (from requests<3.0.0dev,>=2.21.0->google-cloud-bigquery) (2.0.4)\n",
            "Requirement already satisfied: idna<4,>=2.5 in /storage/modules/packages/anaconda/lib/python3.11/site-packages (from requests<3.0.0dev,>=2.21.0->google-cloud-bigquery) (3.4)\n",
            "Requirement already satisfied: urllib3<3,>=1.21.1 in /storage/modules/packages/anaconda/lib/python3.11/site-packages (from requests<3.0.0dev,>=2.21.0->google-cloud-bigquery) (1.26.18)\n",
            "Requirement already satisfied: certifi>=2017.4.17 in /storage/modules/packages/anaconda/lib/python3.11/site-packages (from requests<3.0.0dev,>=2.21.0->google-cloud-bigquery) (2023.11.17)\n",
            "Requirement already satisfied: pyasn1<0.5.0,>=0.4.6 in /storage/modules/packages/anaconda/lib/python3.11/site-packages (from pyasn1-modules>=0.2.1->google-auth<3.0.0dev,>=2.14.1->google-cloud-bigquery) (0.4.8)\n",
            "Note: you may need to restart the kernel to use updated packages.\n"
          ]
        }
      ],
      "source": [
        "pip install google-cloud-bigquery"
      ]
    },
    {
      "cell_type": "code",
      "execution_count": null,
      "id": "045c52ea-fb59-4a13-adcb-42ca01356628",
      "metadata": {
        "id": "045c52ea-fb59-4a13-adcb-42ca01356628",
        "outputId": "19218e66-2230-48d7-e0ea-7a466d8499a9"
      },
      "outputs": [
        {
          "name": "stdout",
          "output_type": "stream",
          "text": [
            "Defaulting to user installation because normal site-packages is not writeable\n",
            "Requirement already satisfied: textblob in /home/idodah/.local/lib/python3.11/site-packages (0.19.0)\n",
            "Requirement already satisfied: nltk>=3.9 in /home/idodah/.local/lib/python3.11/site-packages (from textblob) (3.9.1)\n",
            "Requirement already satisfied: click in /storage/modules/packages/anaconda/lib/python3.11/site-packages (from nltk>=3.9->textblob) (8.1.7)\n",
            "Requirement already satisfied: joblib in /storage/modules/packages/anaconda/lib/python3.11/site-packages (from nltk>=3.9->textblob) (1.2.0)\n",
            "Requirement already satisfied: regex>=2021.8.3 in /storage/modules/packages/anaconda/lib/python3.11/site-packages (from nltk>=3.9->textblob) (2023.10.3)\n",
            "Requirement already satisfied: tqdm in /storage/modules/packages/anaconda/lib/python3.11/site-packages (from nltk>=3.9->textblob) (4.65.0)\n",
            "Note: you may need to restart the kernel to use updated packages.\n"
          ]
        }
      ],
      "source": [
        "pip install textblob"
      ]
    },
    {
      "cell_type": "code",
      "execution_count": null,
      "id": "4f8f2baf-e76c-4acc-8776-fd0f5775c3ae",
      "metadata": {
        "id": "4f8f2baf-e76c-4acc-8776-fd0f5775c3ae",
        "outputId": "3bd04525-f416-4047-c131-7eb3e12a2f96"
      },
      "outputs": [
        {
          "name": "stdout",
          "output_type": "stream",
          "text": [
            "Installed successfully!\n"
          ]
        }
      ],
      "source": [
        "import google.cloud.bigquery\n",
        "print(\"Installed successfully!\")"
      ]
    },
    {
      "cell_type": "code",
      "execution_count": null,
      "id": "116566f6-87e2-4151-b235-7ac430e62d87",
      "metadata": {
        "id": "116566f6-87e2-4151-b235-7ac430e62d87",
        "outputId": "8c916425-3560-4545-c8d5-58d36c367443"
      },
      "outputs": [
        {
          "name": "stdout",
          "output_type": "stream",
          "text": [
            "Credentials set to: amsterdamriots-cd0b6f9047ec.json\n"
          ]
        }
      ],
      "source": [
        "import os\n",
        "os.environ[\"GOOGLE_APPLICATION_CREDENTIALS\"] = \"amsterdamriots-cd0b6f9047ec.json\"  # Adjust filename if different\n",
        "print(\"Credentials set to:\", os.environ[\"GOOGLE_APPLICATION_CREDENTIALS\"])"
      ]
    },
    {
      "cell_type": "code",
      "execution_count": null,
      "id": "8152f27a-ad1f-495a-a507-cd9c1a9c3436",
      "metadata": {
        "id": "8152f27a-ad1f-495a-a507-cd9c1a9c3436",
        "outputId": "f37881b9-5507-44c6-a293-abde9b45c304"
      },
      "outputs": [
        {
          "name": "stdout",
          "output_type": "stream",
          "text": [
            "Defaulting to user installation because normal site-packages is not writeable\n",
            "Requirement already satisfied: db-dtypes in /home/idodah/.local/lib/python3.11/site-packages (1.4.1)\n",
            "Requirement already satisfied: packaging>=17.0 in /storage/modules/packages/anaconda/lib/python3.11/site-packages (from db-dtypes) (23.1)\n",
            "Requirement already satisfied: pandas>=0.24.2 in /storage/modules/packages/anaconda/lib/python3.11/site-packages (from db-dtypes) (2.1.4)\n",
            "Requirement already satisfied: pyarrow>=3.0.0 in /storage/modules/packages/anaconda/lib/python3.11/site-packages (from db-dtypes) (11.0.0)\n",
            "Requirement already satisfied: numpy>=1.16.6 in /storage/modules/packages/anaconda/lib/python3.11/site-packages (from db-dtypes) (1.26.3)\n",
            "Requirement already satisfied: python-dateutil>=2.8.2 in /storage/modules/packages/anaconda/lib/python3.11/site-packages (from pandas>=0.24.2->db-dtypes) (2.8.2)\n",
            "Requirement already satisfied: pytz>=2020.1 in /storage/modules/packages/anaconda/lib/python3.11/site-packages (from pandas>=0.24.2->db-dtypes) (2023.3.post1)\n",
            "Requirement already satisfied: tzdata>=2022.1 in /storage/modules/packages/anaconda/lib/python3.11/site-packages (from pandas>=0.24.2->db-dtypes) (2023.3)\n",
            "Requirement already satisfied: six>=1.5 in /storage/modules/packages/anaconda/lib/python3.11/site-packages (from python-dateutil>=2.8.2->pandas>=0.24.2->db-dtypes) (1.16.0)\n",
            "Note: you may need to restart the kernel to use updated packages.\n"
          ]
        }
      ],
      "source": [
        "pip install db-dtypes"
      ]
    },
    {
      "cell_type": "code",
      "execution_count": null,
      "id": "9b331d85-a8b1-4c5a-980f-9bb67e187409",
      "metadata": {
        "id": "9b331d85-a8b1-4c5a-980f-9bb67e187409"
      },
      "outputs": [],
      "source": [
        "import requests\n",
        "from bs4 import BeautifulSoup\n",
        "import pandas as pd\n",
        "from datetime import timedelta\n",
        "from textblob import TextBlob\n",
        "import requests\n",
        "import pandas as pd\n",
        "from google.cloud import bigquery\n",
        "import db_dtypes\n",
        "from langdetect import detect\n",
        "from deep_translator import GoogleTranslator"
      ]
    },
    {
      "cell_type": "code",
      "execution_count": null,
      "id": "9b7fc519-a7f2-4b0b-95dd-cafee23c164e",
      "metadata": {
        "id": "9b7fc519-a7f2-4b0b-95dd-cafee23c164e"
      },
      "outputs": [],
      "source": []
    },
    {
      "cell_type": "markdown",
      "source": [
        "# Get relevant articles from GDELT"
      ],
      "metadata": {
        "id": "A5JIC0vFZf0q"
      },
      "id": "A5JIC0vFZf0q"
    },
    {
      "cell_type": "code",
      "execution_count": null,
      "id": "e6d4785c-8f5c-4e9b-aecf-d6d0528b9620",
      "metadata": {
        "id": "e6d4785c-8f5c-4e9b-aecf-d6d0528b9620",
        "outputId": "b358745f-ac60-4d6e-83f5-c530f5a9cc8e"
      },
      "outputs": [
        {
          "name": "stderr",
          "output_type": "stream",
          "text": [
            "/home/idodah/.local/lib/python3.11/site-packages/google/cloud/bigquery/table.py:1820: UserWarning: BigQuery Storage module not found, fetch data with the REST endpoint instead.\n",
            "  warnings.warn(\n"
          ]
        },
        {
          "name": "stdout",
          "output_type": "stream",
          "text": [
            "Data fetched! Here’s a preview:\n",
            "         date                                     location country  \\\n",
            "0  2025-01-12        Birkenau, Warminsko-Mazurskie, Poland      PL   \n",
            "1  2025-01-12        Birkenau, Warminsko-Mazurskie, Poland      PL   \n",
            "2  2025-01-12        Birkenau, Warminsko-Mazurskie, Poland      PL   \n",
            "3  2025-01-11  Tanagra, Perifereia Stereas Elladas, Greece      GR   \n",
            "4  2025-01-11  Tanagra, Perifereia Stereas Elladas, Greece      GR   \n",
            "\n",
            "                                                 url event_code  \n",
            "0  https://nos.nl/liveblog/2550696-toenadering-sy...        015  \n",
            "1  https://imemc.org/article/human-rights-group-i...        057  \n",
            "2  https://imemc.org/article/human-rights-group-i...        057  \n",
            "3  https://www.india.com/news/world/big-threat-fo...        043  \n",
            "4  https://www.india.com/news/world/big-threat-fo...       0311  \n"
          ]
        }
      ],
      "source": [
        "\n",
        "\n",
        "# Set up BigQuery client\n",
        "client = bigquery.Client()\n",
        "\n",
        "# Query GDELT with corrected syntax\n",
        "query = \"\"\"\n",
        "SELECT\n",
        "    DATE(PARSE_DATE('%Y%m%d', CAST(SQLDATE AS STRING))) as date,\n",
        "    ActionGeo_FullName as location,\n",
        "    ActionGeo_CountryCode as country,\n",
        "    SOURCEURL as url,\n",
        "    EventCode as event_code\n",
        "FROM `gdelt-bq.gdeltv2.events`\n",
        "WHERE SQLDATE >= 20231007 AND SQLDATE <= 20250119\n",
        "        AND (SOURCEURL LIKE '%israel%'\n",
        "         OR SOURCEURL LIKE '%Israel%')\n",
        "    AND ActionGeo_CountryCode IN (\n",
        "        'UK', 'NL', 'GM', 'GR', 'IT', 'SP', 'FR', 'PO', 'PL', 'AN', 'TU', 'IC', 'SI',\n",
        "        'BE', 'LH', 'RB', 'LG', 'NO', 'RO', 'BU', 'AJ', 'EZ', 'HU', 'EI', 'MJ'\n",
        "    )\n",
        "\"\"\"\n",
        "\n",
        "try:\n",
        "    # Execute and save to DataFrame\n",
        "    df = client.query(query).to_dataframe()\n",
        "    df.to_csv(\"gdelt_news_protests-Updated.csv\", index=False)\n",
        "    print(\"Data fetched! Here’s a preview:\")\n",
        "    print(df.head())\n",
        "except Exception as e:\n",
        "    print(f\"An error occurred: {e}\")"
      ]
    },
    {
      "cell_type": "markdown",
      "source": [
        "# Fetch Sentiment"
      ],
      "metadata": {
        "id": "Mtf1_x36Z8XH"
      },
      "id": "Mtf1_x36Z8XH"
    },
    {
      "cell_type": "markdown",
      "source": [
        "## Helper functions"
      ],
      "metadata": {
        "id": "oGUfxmriaXOs"
      },
      "id": "oGUfxmriaXOs"
    },
    {
      "cell_type": "code",
      "execution_count": null,
      "id": "c042011a-de19-496f-8a79-ba278f2b1d9e",
      "metadata": {
        "id": "c042011a-de19-496f-8a79-ba278f2b1d9e"
      },
      "outputs": [],
      "source": [
        "# Function to fetch article content from URL\n",
        "def fetch_article_content(url):\n",
        "    try:\n",
        "        response = requests.get(url, timeout=10)  # Add timeout to avoid hanging\n",
        "        response.raise_for_status()  # Raise an error for bad status codes\n",
        "        soup = BeautifulSoup(response.text, 'html.parser')\n",
        "\n",
        "        # Extract text from the article (this will depend on the structure of the webpage)\n",
        "        article_text = ' '.join([p.get_text() for p in soup.find_all('p')])\n",
        "        return article_text\n",
        "    except Exception as e:\n",
        "        return None\n",
        "\n",
        "# Function to calculate sentiment for Israel-related content\n",
        "def analyze_sentiment_israel(text):\n",
        "    if text:\n",
        "        # Focus on sentences that mention Israel\n",
        "        sentences = [sentence for sentence in TextBlob(text).sentences if(\"Israel\" in sentence or 'israel' in sentence)]\n",
        "        if sentences:\n",
        "            # Calculate the average sentiment for Israel-related sentences\n",
        "            sentiment = sum(sentence.sentiment.polarity for sentence in sentences) / len(sentences)\n",
        "            return sentiment\n",
        "    return None\n",
        "\n"
      ]
    },
    {
      "cell_type": "code",
      "execution_count": null,
      "id": "ae3910b0-7db9-41bb-a263-e90584e5e9f9",
      "metadata": {
        "id": "ae3910b0-7db9-41bb-a263-e90584e5e9f9"
      },
      "outputs": [],
      "source": [
        "from langdetect import detect\n",
        "from deep_translator import GoogleTranslator\n",
        "def detect_language(text):\n",
        "    \"\"\"\n",
        "    Detects the language of a given text.\n",
        "\n",
        "    Args:\n",
        "        text (str): The input text.\n",
        "\n",
        "    Returns:\n",
        "        str: The detected language code (e.g., 'en' for English, 'fr' for French).\n",
        "    \"\"\"\n",
        "    try:\n",
        "        return detect(text)\n",
        "    except:\n",
        "        return \"Unknown\"  # Return \"Unknown\" if language detection fails\n",
        "\n",
        "def translate_to_english(text,source_lang):\n",
        "\n",
        "    # Translate the text to English\n",
        "    try:\n",
        "        translated = GoogleTranslator(source=source_lang, target=\"en\").translate(text)\n",
        "        return translated\n",
        "    except Exception as e:\n",
        "        return None"
      ]
    },
    {
      "cell_type": "markdown",
      "source": [
        "## Get average sentiment"
      ],
      "metadata": {
        "id": "w9heOXtQamlQ"
      },
      "id": "w9heOXtQamlQ"
    },
    {
      "cell_type": "code",
      "execution_count": null,
      "id": "fad0750b-b383-4bb2-bdb1-08571b2956e7",
      "metadata": {
        "id": "fad0750b-b383-4bb2-bdb1-08571b2956e7"
      },
      "outputs": [],
      "source": [
        "import pandas as pd\n",
        "\n",
        "df = pd.read_excel('df full features.xlsx')\n",
        "# Get relevent country codes\n",
        "gdelt_codes_url = 'https://www.gdeltproject.org/data/lookups/FIPS.country.txt'\n",
        "gdelt_codes = pd.read_csv(gdelt_codes_url, sep='\\t', header=None, names=['Code', 'Country'])\n",
        "df = df.merge(gdelt_codes, on='Country', how='left')"
      ]
    },
    {
      "cell_type": "code",
      "execution_count": null,
      "id": "56c952ba-0da4-4c7e-981a-5d861bddbfc8",
      "metadata": {
        "id": "56c952ba-0da4-4c7e-981a-5d861bddbfc8"
      },
      "outputs": [],
      "source": [
        "gdelt_df= pd.read_csv('gdelt_news_protests-Updated.csv')"
      ]
    },
    {
      "cell_type": "code",
      "execution_count": null,
      "id": "dedc862a-6498-4b78-86f3-eec93a51a74b",
      "metadata": {
        "id": "dedc862a-6498-4b78-86f3-eec93a51a74b"
      },
      "outputs": [],
      "source": [
        "gdelt_df['date'] = pd.to_datetime(gdelt_df['date'])\n",
        "\n",
        "\n",
        "# Get the relevant articles URL's based on country code and dates\n",
        "def get_filtered_df(row):\n",
        "    # Define the date range for filtering gdelt_df\n",
        "    start_date = row['Date'] - timedelta(days=3)\n",
        "    end_date = row['Date'] - timedelta(days=1)\n",
        "\n",
        "    # Filter gdelt_df based on date range\n",
        "    filtered_df = gdelt_df[\n",
        "        (gdelt_df['date'] >= start_date) &\n",
        "        (gdelt_df['date'] <= end_date) &\n",
        "        (gdelt_df['country'] == row['Code'])\n",
        "    ]\n",
        "\n",
        "    return filtered_df"
      ]
    },
    {
      "cell_type": "code",
      "execution_count": null,
      "id": "0cef76e6-f15f-439a-886f-c5a971dd1036",
      "metadata": {
        "id": "0cef76e6-f15f-439a-886f-c5a971dd1036"
      },
      "outputs": [],
      "source": [
        "# Initialize a list to store average sentiment values\n",
        "average_sentiments = []\n",
        "\n",
        "# Iterate over each row in df\n",
        "for index, row in df.iterrows():\n",
        "\n",
        "        # Fetch article content and calculate sentiment for Israel-related content\n",
        "        sentiments = []\n",
        "        filtered_df=get_filtered_df(row)\n",
        "        article_text = fetch_article_content(row['url'])\n",
        "\n",
        "        for url in filtered_df['url']:\n",
        "            lang = detect_language(article_text)\n",
        "            if lang!='en':\n",
        "                article_text = translate_to_english(article_text, lang)\n",
        "            sentiment = analyze_sentiment_israel(article_text)\n",
        "            if sentiment is not None:\n",
        "                sentiments.append(sentiment)\n",
        "        # Calculate the average sentiment for the filtered articles\n",
        "        if sentiments:\n",
        "            avg_sentiment = sum(sentiments) / len(sentiments)\n",
        "        else:\n",
        "            avg_sentiment = None  # No valid articles found\n",
        "\n",
        "\n",
        "        # Append the average sentiment to the list\n",
        "        average_sentiments.append(avg_sentiment)\n",
        "\n",
        "\n",
        "# Add the average sentiment column to df\n",
        "df['sentiment_analysis_news_articles'] = average_sentiments"
      ]
    },
    {
      "cell_type": "code",
      "source": [
        "df.excel('df full features.xlsx')"
      ],
      "metadata": {
        "id": "Xh_Cs6RAcfnY"
      },
      "id": "Xh_Cs6RAcfnY",
      "execution_count": null,
      "outputs": []
    }
  ],
  "metadata": {
    "kernelspec": {
      "display_name": "Python 3 (ipykernel)",
      "language": "python",
      "name": "python3"
    },
    "language_info": {
      "codemirror_mode": {
        "name": "ipython",
        "version": 3
      },
      "file_extension": ".py",
      "mimetype": "text/x-python",
      "name": "python",
      "nbconvert_exporter": "python",
      "pygments_lexer": "ipython3",
      "version": "3.11.7"
    },
    "colab": {
      "provenance": []
    }
  },
  "nbformat": 4,
  "nbformat_minor": 5
}